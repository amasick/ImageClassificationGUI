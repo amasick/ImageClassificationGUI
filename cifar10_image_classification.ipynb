{
  "nbformat": 4,
  "nbformat_minor": 0,
  "metadata": {
    "colab": {
      "name": "cifar10_image_classification.ipynb",
      "provenance": []
    },
    "kernelspec": {
      "name": "python3",
      "display_name": "Python 3"
    },
    "accelerator": "GPU"
  },
  "cells": [
    {
      "cell_type": "code",
      "metadata": {
        "id": "L1UnkSTrgMZ3",
        "colab_type": "code",
        "colab": {}
      },
      "source": [
        "from keras.datasets import cifar10\n",
        "import matplotlib.pyplot as plt\n",
        "\n",
        "(train_X, train_Y), (test_X, test_Y) = cifar10.load_data()"
      ],
      "execution_count": 2,
      "outputs": []
    },
    {
      "cell_type": "code",
      "metadata": {
        "id": "ppTpe3T_hTi4",
        "colab_type": "code",
        "colab": {
          "base_uri": "https://localhost:8080/",
          "height": 300
        },
        "outputId": "40d0e3f8-f066-443b-fa87-1e84a0558074",
        "tags": []
      },
      "source": [
        "print(train_Y[31])\n",
        "plt.imshow(train_X[31])"
      ],
      "execution_count": 3,
      "outputs": [
        {
          "output_type": "stream",
          "name": "stdout",
          "text": "[9]\n"
        },
        {
          "output_type": "execute_result",
          "data": {
            "text/plain": "<matplotlib.image.AxesImage at 0x1c67f5444f0>"
          },
          "metadata": {},
          "execution_count": 3
        },
        {
          "output_type": "display_data",
          "data": {
            "text/plain": "<Figure size 432x288 with 1 Axes>",
            "image/svg+xml": "<?xml version=\"1.0\" encoding=\"utf-8\" standalone=\"no\"?>\r\n<!DOCTYPE svg PUBLIC \"-//W3C//DTD SVG 1.1//EN\"\r\n  \"http://www.w3.org/Graphics/SVG/1.1/DTD/svg11.dtd\">\r\n<!-- Created with matplotlib (https://matplotlib.org/) -->\r\n<svg height=\"248.919844pt\" version=\"1.1\" viewBox=\"0 0 251.565 248.919844\" width=\"251.565pt\" xmlns=\"http://www.w3.org/2000/svg\" xmlns:xlink=\"http://www.w3.org/1999/xlink\">\r\n <metadata>\r\n  <rdf:RDF xmlns:cc=\"http://creativecommons.org/ns#\" xmlns:dc=\"http://purl.org/dc/elements/1.1/\" xmlns:rdf=\"http://www.w3.org/1999/02/22-rdf-syntax-ns#\">\r\n   <cc:Work>\r\n    <dc:type rdf:resource=\"http://purl.org/dc/dcmitype/StillImage\"/>\r\n    <dc:date>2020-08-08T21:12:24.644962</dc:date>\r\n    <dc:format>image/svg+xml</dc:format>\r\n    <dc:creator>\r\n     <cc:Agent>\r\n      <dc:title>Matplotlib v3.3.0, https://matplotlib.org/</dc:title>\r\n     </cc:Agent>\r\n    </dc:creator>\r\n   </cc:Work>\r\n  </rdf:RDF>\r\n </metadata>\r\n <defs>\r\n  <style type=\"text/css\">*{stroke-linecap:butt;stroke-linejoin:round;}</style>\r\n </defs>\r\n <g id=\"figure_1\">\r\n  <g id=\"patch_1\">\r\n   <path d=\"M 0 248.919844 \r\nL 251.565 248.919844 \r\nL 251.565 0 \r\nL 0 0 \r\nz\r\n\" style=\"fill:none;\"/>\r\n  </g>\r\n  <g id=\"axes_1\">\r\n   <g id=\"patch_2\">\r\n    <path d=\"M 26.925 225.041719 \r\nL 244.365 225.041719 \r\nL 244.365 7.601719 \r\nL 26.925 7.601719 \r\nz\r\n\" style=\"fill:#ffffff;\"/>\r\n   </g>\r\n   <g clip-path=\"url(#pdc0c8b7b52)\">\r\n    <image height=\"218\" id=\"image32d6094f6a\" transform=\"scale(1 -1)translate(0 -218)\" width=\"218\" x=\"26.925\" xlink:href=\"data:image/png;base64,\r\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\" y=\"-7.041719\"/>\r\n   </g>\r\n   <g id=\"matplotlib.axis_1\">\r\n    <g id=\"xtick_1\">\r\n     <g id=\"line2d_1\">\r\n      <defs>\r\n       <path d=\"M 0 0 \r\nL 0 3.5 \r\n\" id=\"m210d458d84\" style=\"stroke:#000000;stroke-width:0.8;\"/>\r\n      </defs>\r\n      <g>\r\n       <use style=\"stroke:#000000;stroke-width:0.8;\" x=\"30.3225\" xlink:href=\"#m210d458d84\" y=\"225.041719\"/>\r\n      </g>\r\n     </g>\r\n     <g id=\"text_1\">\r\n      <!-- 0 -->\r\n      <g transform=\"translate(27.14125 239.640156)scale(0.1 -0.1)\">\r\n       <defs>\r\n        <path d=\"M 31.78125 66.40625 \r\nQ 24.171875 66.40625 20.328125 58.90625 \r\nQ 16.5 51.421875 16.5 36.375 \r\nQ 16.5 21.390625 20.328125 13.890625 \r\nQ 24.171875 6.390625 31.78125 6.390625 \r\nQ 39.453125 6.390625 43.28125 13.890625 \r\nQ 47.125 21.390625 47.125 36.375 \r\nQ 47.125 51.421875 43.28125 58.90625 \r\nQ 39.453125 66.40625 31.78125 66.40625 \r\nz\r\nM 31.78125 74.21875 \r\nQ 44.046875 74.21875 50.515625 64.515625 \r\nQ 56.984375 54.828125 56.984375 36.375 \r\nQ 56.984375 17.96875 50.515625 8.265625 \r\nQ 44.046875 -1.421875 31.78125 -1.421875 \r\nQ 19.53125 -1.421875 13.0625 8.265625 \r\nQ 6.59375 17.96875 6.59375 36.375 \r\nQ 6.59375 54.828125 13.0625 64.515625 \r\nQ 19.53125 74.21875 31.78125 74.21875 \r\nz\r\n\" id=\"DejaVuSans-48\"/>\r\n       </defs>\r\n       <use xlink:href=\"#DejaVuSans-48\"/>\r\n      </g>\r\n     </g>\r\n    </g>\r\n    <g id=\"xtick_2\">\r\n     <g id=\"line2d_2\">\r\n      <g>\r\n       <use style=\"stroke:#000000;stroke-width:0.8;\" x=\"64.2975\" xlink:href=\"#m210d458d84\" y=\"225.041719\"/>\r\n      </g>\r\n     </g>\r\n     <g id=\"text_2\">\r\n      <!-- 5 -->\r\n      <g transform=\"translate(61.11625 239.640156)scale(0.1 -0.1)\">\r\n       <defs>\r\n        <path d=\"M 10.796875 72.90625 \r\nL 49.515625 72.90625 \r\nL 49.515625 64.59375 \r\nL 19.828125 64.59375 \r\nL 19.828125 46.734375 \r\nQ 21.96875 47.46875 24.109375 47.828125 \r\nQ 26.265625 48.1875 28.421875 48.1875 \r\nQ 40.625 48.1875 47.75 41.5 \r\nQ 54.890625 34.8125 54.890625 23.390625 \r\nQ 54.890625 11.625 47.5625 5.09375 \r\nQ 40.234375 -1.421875 26.90625 -1.421875 \r\nQ 22.3125 -1.421875 17.546875 -0.640625 \r\nQ 12.796875 0.140625 7.71875 1.703125 \r\nL 7.71875 11.625 \r\nQ 12.109375 9.234375 16.796875 8.0625 \r\nQ 21.484375 6.890625 26.703125 6.890625 \r\nQ 35.15625 6.890625 40.078125 11.328125 \r\nQ 45.015625 15.765625 45.015625 23.390625 \r\nQ 45.015625 31 40.078125 35.4375 \r\nQ 35.15625 39.890625 26.703125 39.890625 \r\nQ 22.75 39.890625 18.8125 39.015625 \r\nQ 14.890625 38.140625 10.796875 36.28125 \r\nz\r\n\" id=\"DejaVuSans-53\"/>\r\n       </defs>\r\n       <use xlink:href=\"#DejaVuSans-53\"/>\r\n      </g>\r\n     </g>\r\n    </g>\r\n    <g id=\"xtick_3\">\r\n     <g id=\"line2d_3\">\r\n      <g>\r\n       <use style=\"stroke:#000000;stroke-width:0.8;\" x=\"98.2725\" xlink:href=\"#m210d458d84\" y=\"225.041719\"/>\r\n      </g>\r\n     </g>\r\n     <g id=\"text_3\">\r\n      <!-- 10 -->\r\n      <g transform=\"translate(91.91 239.640156)scale(0.1 -0.1)\">\r\n       <defs>\r\n        <path d=\"M 12.40625 8.296875 \r\nL 28.515625 8.296875 \r\nL 28.515625 63.921875 \r\nL 10.984375 60.40625 \r\nL 10.984375 69.390625 \r\nL 28.421875 72.90625 \r\nL 38.28125 72.90625 \r\nL 38.28125 8.296875 \r\nL 54.390625 8.296875 \r\nL 54.390625 0 \r\nL 12.40625 0 \r\nz\r\n\" id=\"DejaVuSans-49\"/>\r\n       </defs>\r\n       <use xlink:href=\"#DejaVuSans-49\"/>\r\n       <use x=\"63.623047\" xlink:href=\"#DejaVuSans-48\"/>\r\n      </g>\r\n     </g>\r\n    </g>\r\n    <g id=\"xtick_4\">\r\n     <g id=\"line2d_4\">\r\n      <g>\r\n       <use style=\"stroke:#000000;stroke-width:0.8;\" x=\"132.2475\" xlink:href=\"#m210d458d84\" y=\"225.041719\"/>\r\n      </g>\r\n     </g>\r\n     <g id=\"text_4\">\r\n      <!-- 15 -->\r\n      <g transform=\"translate(125.885 239.640156)scale(0.1 -0.1)\">\r\n       <use xlink:href=\"#DejaVuSans-49\"/>\r\n       <use x=\"63.623047\" xlink:href=\"#DejaVuSans-53\"/>\r\n      </g>\r\n     </g>\r\n    </g>\r\n    <g id=\"xtick_5\">\r\n     <g id=\"line2d_5\">\r\n      <g>\r\n       <use style=\"stroke:#000000;stroke-width:0.8;\" x=\"166.2225\" xlink:href=\"#m210d458d84\" y=\"225.041719\"/>\r\n      </g>\r\n     </g>\r\n     <g id=\"text_5\">\r\n      <!-- 20 -->\r\n      <g transform=\"translate(159.86 239.640156)scale(0.1 -0.1)\">\r\n       <defs>\r\n        <path d=\"M 19.1875 8.296875 \r\nL 53.609375 8.296875 \r\nL 53.609375 0 \r\nL 7.328125 0 \r\nL 7.328125 8.296875 \r\nQ 12.9375 14.109375 22.625 23.890625 \r\nQ 32.328125 33.6875 34.8125 36.53125 \r\nQ 39.546875 41.84375 41.421875 45.53125 \r\nQ 43.3125 49.21875 43.3125 52.78125 \r\nQ 43.3125 58.59375 39.234375 62.25 \r\nQ 35.15625 65.921875 28.609375 65.921875 \r\nQ 23.96875 65.921875 18.8125 64.3125 \r\nQ 13.671875 62.703125 7.8125 59.421875 \r\nL 7.8125 69.390625 \r\nQ 13.765625 71.78125 18.9375 73 \r\nQ 24.125 74.21875 28.421875 74.21875 \r\nQ 39.75 74.21875 46.484375 68.546875 \r\nQ 53.21875 62.890625 53.21875 53.421875 \r\nQ 53.21875 48.921875 51.53125 44.890625 \r\nQ 49.859375 40.875 45.40625 35.40625 \r\nQ 44.1875 33.984375 37.640625 27.21875 \r\nQ 31.109375 20.453125 19.1875 8.296875 \r\nz\r\n\" id=\"DejaVuSans-50\"/>\r\n       </defs>\r\n       <use xlink:href=\"#DejaVuSans-50\"/>\r\n       <use x=\"63.623047\" xlink:href=\"#DejaVuSans-48\"/>\r\n      </g>\r\n     </g>\r\n    </g>\r\n    <g id=\"xtick_6\">\r\n     <g id=\"line2d_6\">\r\n      <g>\r\n       <use style=\"stroke:#000000;stroke-width:0.8;\" x=\"200.1975\" xlink:href=\"#m210d458d84\" y=\"225.041719\"/>\r\n      </g>\r\n     </g>\r\n     <g id=\"text_6\">\r\n      <!-- 25 -->\r\n      <g transform=\"translate(193.835 239.640156)scale(0.1 -0.1)\">\r\n       <use xlink:href=\"#DejaVuSans-50\"/>\r\n       <use x=\"63.623047\" xlink:href=\"#DejaVuSans-53\"/>\r\n      </g>\r\n     </g>\r\n    </g>\r\n    <g id=\"xtick_7\">\r\n     <g id=\"line2d_7\">\r\n      <g>\r\n       <use style=\"stroke:#000000;stroke-width:0.8;\" x=\"234.1725\" xlink:href=\"#m210d458d84\" y=\"225.041719\"/>\r\n      </g>\r\n     </g>\r\n     <g id=\"text_7\">\r\n      <!-- 30 -->\r\n      <g transform=\"translate(227.81 239.640156)scale(0.1 -0.1)\">\r\n       <defs>\r\n        <path d=\"M 40.578125 39.3125 \r\nQ 47.65625 37.796875 51.625 33 \r\nQ 55.609375 28.21875 55.609375 21.1875 \r\nQ 55.609375 10.40625 48.1875 4.484375 \r\nQ 40.765625 -1.421875 27.09375 -1.421875 \r\nQ 22.515625 -1.421875 17.65625 -0.515625 \r\nQ 12.796875 0.390625 7.625 2.203125 \r\nL 7.625 11.71875 \r\nQ 11.71875 9.328125 16.59375 8.109375 \r\nQ 21.484375 6.890625 26.8125 6.890625 \r\nQ 36.078125 6.890625 40.9375 10.546875 \r\nQ 45.796875 14.203125 45.796875 21.1875 \r\nQ 45.796875 27.640625 41.28125 31.265625 \r\nQ 36.765625 34.90625 28.71875 34.90625 \r\nL 20.21875 34.90625 \r\nL 20.21875 43.015625 \r\nL 29.109375 43.015625 \r\nQ 36.375 43.015625 40.234375 45.921875 \r\nQ 44.09375 48.828125 44.09375 54.296875 \r\nQ 44.09375 59.90625 40.109375 62.90625 \r\nQ 36.140625 65.921875 28.71875 65.921875 \r\nQ 24.65625 65.921875 20.015625 65.03125 \r\nQ 15.375 64.15625 9.8125 62.3125 \r\nL 9.8125 71.09375 \r\nQ 15.4375 72.65625 20.34375 73.4375 \r\nQ 25.25 74.21875 29.59375 74.21875 \r\nQ 40.828125 74.21875 47.359375 69.109375 \r\nQ 53.90625 64.015625 53.90625 55.328125 \r\nQ 53.90625 49.265625 50.4375 45.09375 \r\nQ 46.96875 40.921875 40.578125 39.3125 \r\nz\r\n\" id=\"DejaVuSans-51\"/>\r\n       </defs>\r\n       <use xlink:href=\"#DejaVuSans-51\"/>\r\n       <use x=\"63.623047\" xlink:href=\"#DejaVuSans-48\"/>\r\n      </g>\r\n     </g>\r\n    </g>\r\n   </g>\r\n   <g id=\"matplotlib.axis_2\">\r\n    <g id=\"ytick_1\">\r\n     <g id=\"line2d_8\">\r\n      <defs>\r\n       <path d=\"M 0 0 \r\nL -3.5 0 \r\n\" id=\"mfd125886f6\" style=\"stroke:#000000;stroke-width:0.8;\"/>\r\n      </defs>\r\n      <g>\r\n       <use style=\"stroke:#000000;stroke-width:0.8;\" x=\"26.925\" xlink:href=\"#mfd125886f6\" y=\"10.999219\"/>\r\n      </g>\r\n     </g>\r\n     <g id=\"text_8\">\r\n      <!-- 0 -->\r\n      <g transform=\"translate(13.5625 14.798437)scale(0.1 -0.1)\">\r\n       <use xlink:href=\"#DejaVuSans-48\"/>\r\n      </g>\r\n     </g>\r\n    </g>\r\n    <g id=\"ytick_2\">\r\n     <g id=\"line2d_9\">\r\n      <g>\r\n       <use style=\"stroke:#000000;stroke-width:0.8;\" x=\"26.925\" xlink:href=\"#mfd125886f6\" y=\"44.974219\"/>\r\n      </g>\r\n     </g>\r\n     <g id=\"text_9\">\r\n      <!-- 5 -->\r\n      <g transform=\"translate(13.5625 48.773437)scale(0.1 -0.1)\">\r\n       <use xlink:href=\"#DejaVuSans-53\"/>\r\n      </g>\r\n     </g>\r\n    </g>\r\n    <g id=\"ytick_3\">\r\n     <g id=\"line2d_10\">\r\n      <g>\r\n       <use style=\"stroke:#000000;stroke-width:0.8;\" x=\"26.925\" xlink:href=\"#mfd125886f6\" y=\"78.949219\"/>\r\n      </g>\r\n     </g>\r\n     <g id=\"text_10\">\r\n      <!-- 10 -->\r\n      <g transform=\"translate(7.2 82.748437)scale(0.1 -0.1)\">\r\n       <use xlink:href=\"#DejaVuSans-49\"/>\r\n       <use x=\"63.623047\" xlink:href=\"#DejaVuSans-48\"/>\r\n      </g>\r\n     </g>\r\n    </g>\r\n    <g id=\"ytick_4\">\r\n     <g id=\"line2d_11\">\r\n      <g>\r\n       <use style=\"stroke:#000000;stroke-width:0.8;\" x=\"26.925\" xlink:href=\"#mfd125886f6\" y=\"112.924219\"/>\r\n      </g>\r\n     </g>\r\n     <g id=\"text_11\">\r\n      <!-- 15 -->\r\n      <g transform=\"translate(7.2 116.723437)scale(0.1 -0.1)\">\r\n       <use xlink:href=\"#DejaVuSans-49\"/>\r\n       <use x=\"63.623047\" xlink:href=\"#DejaVuSans-53\"/>\r\n      </g>\r\n     </g>\r\n    </g>\r\n    <g id=\"ytick_5\">\r\n     <g id=\"line2d_12\">\r\n      <g>\r\n       <use style=\"stroke:#000000;stroke-width:0.8;\" x=\"26.925\" xlink:href=\"#mfd125886f6\" y=\"146.899219\"/>\r\n      </g>\r\n     </g>\r\n     <g id=\"text_12\">\r\n      <!-- 20 -->\r\n      <g transform=\"translate(7.2 150.698437)scale(0.1 -0.1)\">\r\n       <use xlink:href=\"#DejaVuSans-50\"/>\r\n       <use x=\"63.623047\" xlink:href=\"#DejaVuSans-48\"/>\r\n      </g>\r\n     </g>\r\n    </g>\r\n    <g id=\"ytick_6\">\r\n     <g id=\"line2d_13\">\r\n      <g>\r\n       <use style=\"stroke:#000000;stroke-width:0.8;\" x=\"26.925\" xlink:href=\"#mfd125886f6\" y=\"180.874219\"/>\r\n      </g>\r\n     </g>\r\n     <g id=\"text_13\">\r\n      <!-- 25 -->\r\n      <g transform=\"translate(7.2 184.673437)scale(0.1 -0.1)\">\r\n       <use xlink:href=\"#DejaVuSans-50\"/>\r\n       <use x=\"63.623047\" xlink:href=\"#DejaVuSans-53\"/>\r\n      </g>\r\n     </g>\r\n    </g>\r\n    <g id=\"ytick_7\">\r\n     <g id=\"line2d_14\">\r\n      <g>\r\n       <use style=\"stroke:#000000;stroke-width:0.8;\" x=\"26.925\" xlink:href=\"#mfd125886f6\" y=\"214.849219\"/>\r\n      </g>\r\n     </g>\r\n     <g id=\"text_14\">\r\n      <!-- 30 -->\r\n      <g transform=\"translate(7.2 218.648437)scale(0.1 -0.1)\">\r\n       <use xlink:href=\"#DejaVuSans-51\"/>\r\n       <use x=\"63.623047\" xlink:href=\"#DejaVuSans-48\"/>\r\n      </g>\r\n     </g>\r\n    </g>\r\n   </g>\r\n   <g id=\"patch_3\">\r\n    <path d=\"M 26.925 225.041719 \r\nL 26.925 7.601719 \r\n\" style=\"fill:none;stroke:#000000;stroke-linecap:square;stroke-linejoin:miter;stroke-width:0.8;\"/>\r\n   </g>\r\n   <g id=\"patch_4\">\r\n    <path d=\"M 244.365 225.041719 \r\nL 244.365 7.601719 \r\n\" style=\"fill:none;stroke:#000000;stroke-linecap:square;stroke-linejoin:miter;stroke-width:0.8;\"/>\r\n   </g>\r\n   <g id=\"patch_5\">\r\n    <path d=\"M 26.925 225.041719 \r\nL 244.365 225.041719 \r\n\" style=\"fill:none;stroke:#000000;stroke-linecap:square;stroke-linejoin:miter;stroke-width:0.8;\"/>\r\n   </g>\r\n   <g id=\"patch_6\">\r\n    <path d=\"M 26.925 7.601719 \r\nL 244.365 7.601719 \r\n\" style=\"fill:none;stroke:#000000;stroke-linecap:square;stroke-linejoin:miter;stroke-width:0.8;\"/>\r\n   </g>\r\n  </g>\r\n </g>\r\n <defs>\r\n  <clipPath id=\"pdc0c8b7b52\">\r\n   <rect height=\"217.44\" width=\"217.44\" x=\"26.925\" y=\"7.601719\"/>\r\n  </clipPath>\r\n </defs>\r\n</svg>\r\n",
            "image/png": "[encoded data removed]"
          },
          "metadata": {
            "needs_background": "light"
          }
        }
      ]
    },
    {
      "cell_type": "code",
      "metadata": {
        "id": "dn6IsvPPhv02",
        "colab_type": "code",
        "colab": {}
      },
      "source": [
        "from keras.models import Sequential\n",
        "from keras.layers import Dense\n",
        "from keras.layers import Dropout\n",
        "from keras.layers import Flatten\n",
        "from keras.optimizers import SGD\n",
        "from keras.constraints import maxnorm\n",
        "from keras.layers.convolutional import Conv2D\n",
        "from keras.layers.convolutional import MaxPooling2D\n",
        "from keras.utils import np_utils"
      ],
      "execution_count": 4,
      "outputs": []
    },
    {
      "cell_type": "code",
      "metadata": {
        "id": "d4YBIxrBiZF8",
        "colab_type": "code",
        "colab": {}
      },
      "source": [
        "train_x=train_X.astype('float32')\n",
        "test_X=test_X.astype('float32')\n",
        " \n",
        "train_X=train_X/255.0\n",
        "test_X=test_X/255.0"
      ],
      "execution_count": 5,
      "outputs": []
    },
    {
      "cell_type": "code",
      "metadata": {
        "id": "_dTw3JTrie8-",
        "colab_type": "code",
        "colab": {}
      },
      "source": [
        "train_Y = np_utils.to_categorical(train_Y)\n",
        "test_Y = np_utils.to_categorical(test_Y)\n",
        "\n",
        "num_classes = train_Y.shape[1]"
      ],
      "execution_count": 6,
      "outputs": []
    },
    {
      "cell_type": "code",
      "metadata": {
        "id": "ohzLDKWzEyKW",
        "colab_type": "code",
        "colab": {}
      },
      "source": [
        "model=Sequential()\n",
        "model.add(Conv2D(32,(3,3),input_shape=(32,32,3),\n",
        "    padding='same',activation='relu',\n",
        "    kernel_constraint=maxnorm(3)))\n",
        "model.add(Dropout(0.2))\n",
        "model.add(Conv2D(64,(5,5),activation='relu',padding='same',kernel_constraint=maxnorm(3)))\n",
        "model.add(MaxPooling2D(pool_size=(2,2)))\n",
        "model.add(Conv2D(128,(3,3),activation='relu',padding='same',kernel_constraint=maxnorm(3)))\n",
        "model.add(MaxPooling2D(pool_size=(2,2)))\n",
        "model.add(Flatten())\n",
        "model.add(Dense(512,activation='relu',kernel_constraint=maxnorm(3)))\n",
        "model.add(Dropout(0.5))\n",
        "model.add(Dense(num_classes, activation='softmax'))"
      ],
      "execution_count": 7,
      "outputs": []
    },
    {
      "cell_type": "code",
      "metadata": {
        "id": "qWJNSNAgFDyE",
        "colab_type": "code",
        "colab": {}
      },
      "source": [
        "model.compile(optimizer = 'adam', loss = 'categorical_crossentropy', metrics = [\"accuracy\"])"
      ],
      "execution_count": 8,
      "outputs": []
    },
    {
      "cell_type": "code",
      "metadata": {
        "id": "uuaHDsMnFV0-",
        "colab_type": "code",
        "colab": {
          "base_uri": "https://localhost:8080/",
          "height": 425
        },
        "outputId": "2bee8935-f12b-4d51-8563-2682a9d4a745",
        "tags": []
      },
      "source": [
        "model.summary()"
      ],
      "execution_count": 9,
      "outputs": [
        {
          "output_type": "stream",
          "name": "stdout",
          "text": "Model: \"sequential\"\n_________________________________________________________________\nLayer (type)                 Output Shape              Param #   \n=================================================================\nconv2d (Conv2D)              (None, 32, 32, 32)        896       \n_________________________________________________________________\ndropout (Dropout)            (None, 32, 32, 32)        0         \n_________________________________________________________________\nconv2d_1 (Conv2D)            (None, 32, 32, 64)        51264     \n_________________________________________________________________\nmax_pooling2d (MaxPooling2D) (None, 16, 16, 64)        0         \n_________________________________________________________________\nconv2d_2 (Conv2D)            (None, 16, 16, 128)       73856     \n_________________________________________________________________\nmax_pooling2d_1 (MaxPooling2 (None, 8, 8, 128)         0         \n_________________________________________________________________\nflatten (Flatten)            (None, 8192)              0         \n_________________________________________________________________\ndense (Dense)                (None, 512)               4194816   \n_________________________________________________________________\ndropout_1 (Dropout)          (None, 512)               0         \n_________________________________________________________________\ndense_1 (Dense)              (None, 10)                5130      \n=================================================================\nTotal params: 4,325,962\nTrainable params: 4,325,962\nNon-trainable params: 0\n_________________________________________________________________\n"
        }
      ]
    },
    {
      "cell_type": "code",
      "metadata": {
        "id": "mjj_kMokFuAn",
        "colab_type": "code",
        "colab": {
          "base_uri": "https://localhost:8080/",
          "height": 1000
        },
        "outputId": "1fae0606-89f3-4125-a877-dba3fa1ccbe1",
        "tags": []
      },
      "source": [
        "model.fit(x = train_X, y = train_Y,\n",
        "    validation_data = (test_X,test_Y),\n",
        "    epochs = 15, batch_size = 64)"
      ],
      "execution_count": 10,
      "outputs": [
        {
          "output_type": "stream",
          "name": "stdout",
          "text": "Epoch 1/15\n782/782 [==============================] - 454s 580ms/step - loss: 1.4975 - accuracy: 0.4603 - val_loss: 1.1315 - val_accuracy: 0.5975\nEpoch 2/15\n782/782 [==============================] - 376s 481ms/step - loss: 1.0599 - accuracy: 0.6259 - val_loss: 0.8946 - val_accuracy: 0.6840\nEpoch 3/15\n782/782 [==============================] - 365s 467ms/step - loss: 0.8821 - accuracy: 0.6903 - val_loss: 0.8037 - val_accuracy: 0.7183\nEpoch 4/15\n782/782 [==============================] - 365s 467ms/step - loss: 0.7722 - accuracy: 0.7305 - val_loss: 0.7523 - val_accuracy: 0.7369\nEpoch 5/15\n782/782 [==============================] - 366s 467ms/step - loss: 0.7005 - accuracy: 0.7539 - val_loss: 0.7269 - val_accuracy: 0.7487\nEpoch 6/15\n782/782 [==============================] - 379s 485ms/step - loss: 0.6339 - accuracy: 0.7786 - val_loss: 0.7297 - val_accuracy: 0.7465\nEpoch 7/15\n782/782 [==============================] - 502s 642ms/step - loss: 0.5768 - accuracy: 0.7950 - val_loss: 0.7025 - val_accuracy: 0.7609\nEpoch 8/15\n782/782 [==============================] - 354s 453ms/step - loss: 0.5389 - accuracy: 0.8123 - val_loss: 0.7247 - val_accuracy: 0.7513\nEpoch 9/15\n782/782 [==============================] - 376s 481ms/step - loss: 0.5026 - accuracy: 0.8226 - val_loss: 0.6916 - val_accuracy: 0.7597\nEpoch 10/15\n782/782 [==============================] - 342s 438ms/step - loss: 0.4667 - accuracy: 0.8359 - val_loss: 0.6848 - val_accuracy: 0.7690\nEpoch 11/15\n782/782 [==============================] - 337s 430ms/step - loss: 0.4319 - accuracy: 0.8470 - val_loss: 0.7000 - val_accuracy: 0.7672\nEpoch 12/15\n782/782 [==============================] - 336s 430ms/step - loss: 0.4114 - accuracy: 0.8546 - val_loss: 0.6928 - val_accuracy: 0.7733\nEpoch 13/15\n782/782 [==============================] - 338s 432ms/step - loss: 0.3936 - accuracy: 0.8606 - val_loss: 0.7517 - val_accuracy: 0.7655\nEpoch 14/15\n782/782 [==============================] - 337s 431ms/step - loss: 0.3775 - accuracy: 0.8675 - val_loss: 0.7110 - val_accuracy: 0.7678\nEpoch 15/15\n782/782 [==============================] - 336s 430ms/step - loss: 0.3617 - accuracy: 0.8735 - val_loss: 0.7124 - val_accuracy: 0.7721\n"
        },
        {
          "output_type": "execute_result",
          "data": {
            "text/plain": "<tensorflow.python.keras.callbacks.History at 0x1c67bf2b5b0>"
          },
          "metadata": {},
          "execution_count": 10
        }
      ]
    },
    {
      "cell_type": "code",
      "metadata": {
        "id": "aqS8ErENJtgY",
        "colab_type": "code",
        "colab": {
          "base_uri": "https://localhost:8080/",
          "height": 34
        },
        "outputId": "407ca344-0c30-4be3-8049-1190fc74b64f",
        "tags": []
      },
      "source": [
        "  _, acc = model.evaluate(train_X, train_Y)"
      ],
      "execution_count": 11,
      "outputs": [
        {
          "output_type": "stream",
          "name": "stdout",
          "text": "1563/1563 [==============================] - 73s 47ms/step - loss: 0.1440 - accuracy: 0.9623\n"
        }
      ]
    },
    {
      "cell_type": "code",
      "metadata": {
        "id": "OOn3gwOCAjTa",
        "colab_type": "code",
        "colab": {}
      },
      "source": [
        "model.save(\"model.h5\")"
      ],
      "execution_count": 12,
      "outputs": []
    }
  ]
}